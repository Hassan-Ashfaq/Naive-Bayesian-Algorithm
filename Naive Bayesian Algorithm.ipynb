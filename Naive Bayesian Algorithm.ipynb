{
 "cells": [
  {
   "cell_type": "code",
   "execution_count": 1,
   "id": "4246bdea",
   "metadata": {
    "execution": {
     "iopub.execute_input": "2021-09-28T17:38:04.145409Z",
     "iopub.status.busy": "2021-09-28T17:38:04.144833Z",
     "iopub.status.idle": "2021-09-28T17:38:04.982128Z",
     "shell.execute_reply": "2021-09-28T17:38:04.981253Z",
     "shell.execute_reply.started": "2021-09-28T17:37:28.178473Z"
    },
    "papermill": {
     "duration": 0.858402,
     "end_time": "2021-09-28T17:38:04.982315",
     "exception": false,
     "start_time": "2021-09-28T17:38:04.123913",
     "status": "completed"
    },
    "tags": []
   },
   "outputs": [],
   "source": [
    "import numpy as np\n",
    "import pandas as pd\n",
    "from sklearn.model_selection import train_test_split\n",
    "from sklearn.metrics import accuracy_score, confusion_matrix\n",
    "import warnings\n",
    "warnings.filterwarnings(\"ignore\")"
   ]
  },
  {
   "cell_type": "markdown",
   "id": "5b97829e",
   "metadata": {
    "papermill": {
     "duration": 0.009449,
     "end_time": "2021-09-28T17:38:05.001651",
     "exception": false,
     "start_time": "2021-09-28T17:38:04.992202",
     "status": "completed"
    },
    "tags": []
   },
   "source": [
    "# **Data Loading**"
   ]
  },
  {
   "cell_type": "code",
   "execution_count": 2,
   "id": "3e189a77",
   "metadata": {
    "execution": {
     "iopub.execute_input": "2021-09-28T17:38:05.023138Z",
     "iopub.status.busy": "2021-09-28T17:38:05.022570Z",
     "iopub.status.idle": "2021-09-28T17:38:05.058702Z",
     "shell.execute_reply": "2021-09-28T17:38:05.059458Z",
     "shell.execute_reply.started": "2021-09-28T17:37:28.191347Z"
    },
    "papermill": {
     "duration": 0.048563,
     "end_time": "2021-09-28T17:38:05.059705",
     "exception": false,
     "start_time": "2021-09-28T17:38:05.011142",
     "status": "completed"
    },
    "tags": []
   },
   "outputs": [
    {
     "data": {
      "text/html": [
       "<div>\n",
       "<style scoped>\n",
       "    .dataframe tbody tr th:only-of-type {\n",
       "        vertical-align: middle;\n",
       "    }\n",
       "\n",
       "    .dataframe tbody tr th {\n",
       "        vertical-align: top;\n",
       "    }\n",
       "\n",
       "    .dataframe thead th {\n",
       "        text-align: right;\n",
       "    }\n",
       "</style>\n",
       "<table border=\"1\" class=\"dataframe\">\n",
       "  <thead>\n",
       "    <tr style=\"text-align: right;\">\n",
       "      <th></th>\n",
       "      <th>Pregnancies</th>\n",
       "      <th>Glucose</th>\n",
       "      <th>BloodPressure</th>\n",
       "      <th>SkinThickness</th>\n",
       "      <th>Insulin</th>\n",
       "      <th>BMI</th>\n",
       "      <th>DiabetesPedigreeFunction</th>\n",
       "      <th>Age</th>\n",
       "      <th>Outcome</th>\n",
       "    </tr>\n",
       "  </thead>\n",
       "  <tbody>\n",
       "    <tr>\n",
       "      <th>0</th>\n",
       "      <td>6</td>\n",
       "      <td>148</td>\n",
       "      <td>72</td>\n",
       "      <td>35</td>\n",
       "      <td>0</td>\n",
       "      <td>33.6</td>\n",
       "      <td>0.627</td>\n",
       "      <td>50</td>\n",
       "      <td>1</td>\n",
       "    </tr>\n",
       "    <tr>\n",
       "      <th>1</th>\n",
       "      <td>1</td>\n",
       "      <td>85</td>\n",
       "      <td>66</td>\n",
       "      <td>29</td>\n",
       "      <td>0</td>\n",
       "      <td>26.6</td>\n",
       "      <td>0.351</td>\n",
       "      <td>31</td>\n",
       "      <td>0</td>\n",
       "    </tr>\n",
       "    <tr>\n",
       "      <th>2</th>\n",
       "      <td>8</td>\n",
       "      <td>183</td>\n",
       "      <td>64</td>\n",
       "      <td>0</td>\n",
       "      <td>0</td>\n",
       "      <td>23.3</td>\n",
       "      <td>0.672</td>\n",
       "      <td>32</td>\n",
       "      <td>1</td>\n",
       "    </tr>\n",
       "    <tr>\n",
       "      <th>3</th>\n",
       "      <td>1</td>\n",
       "      <td>89</td>\n",
       "      <td>66</td>\n",
       "      <td>23</td>\n",
       "      <td>94</td>\n",
       "      <td>28.1</td>\n",
       "      <td>0.167</td>\n",
       "      <td>21</td>\n",
       "      <td>0</td>\n",
       "    </tr>\n",
       "    <tr>\n",
       "      <th>4</th>\n",
       "      <td>0</td>\n",
       "      <td>137</td>\n",
       "      <td>40</td>\n",
       "      <td>35</td>\n",
       "      <td>168</td>\n",
       "      <td>43.1</td>\n",
       "      <td>2.288</td>\n",
       "      <td>33</td>\n",
       "      <td>1</td>\n",
       "    </tr>\n",
       "  </tbody>\n",
       "</table>\n",
       "</div>"
      ],
      "text/plain": [
       "   Pregnancies  Glucose  BloodPressure  SkinThickness  Insulin   BMI  \\\n",
       "0            6      148             72             35        0  33.6   \n",
       "1            1       85             66             29        0  26.6   \n",
       "2            8      183             64              0        0  23.3   \n",
       "3            1       89             66             23       94  28.1   \n",
       "4            0      137             40             35      168  43.1   \n",
       "\n",
       "   DiabetesPedigreeFunction  Age  Outcome  \n",
       "0                     0.627   50        1  \n",
       "1                     0.351   31        0  \n",
       "2                     0.672   32        1  \n",
       "3                     0.167   21        0  \n",
       "4                     2.288   33        1  "
      ]
     },
     "execution_count": 2,
     "metadata": {},
     "output_type": "execute_result"
    }
   ],
   "source": [
    "data = pd.read_csv('../input/diabetes-data-set/diabetes.csv')\n",
    "data.head()"
   ]
  },
  {
   "cell_type": "code",
   "execution_count": 3,
   "id": "fd45a384",
   "metadata": {
    "execution": {
     "iopub.execute_input": "2021-09-28T17:38:05.087657Z",
     "iopub.status.busy": "2021-09-28T17:38:05.087078Z",
     "iopub.status.idle": "2021-09-28T17:38:05.103742Z",
     "shell.execute_reply": "2021-09-28T17:38:05.103017Z",
     "shell.execute_reply.started": "2021-09-28T17:37:28.214541Z"
    },
    "papermill": {
     "duration": 0.032781,
     "end_time": "2021-09-28T17:38:05.103911",
     "exception": false,
     "start_time": "2021-09-28T17:38:05.071130",
     "status": "completed"
    },
    "tags": []
   },
   "outputs": [],
   "source": [
    "Train,Test,y_train,y_test = train_test_split(data.drop(['Outcome'], axis=1),data['Outcome'],test_size=0.1,random_state=50)\n",
    "Train['Outcome'] = y_train\n",
    "Test['Outcome'] = y_test"
   ]
  },
  {
   "cell_type": "markdown",
   "id": "b5ac06d4",
   "metadata": {
    "papermill": {
     "duration": 0.009493,
     "end_time": "2021-09-28T17:38:05.129274",
     "exception": false,
     "start_time": "2021-09-28T17:38:05.119781",
     "status": "completed"
    },
    "tags": []
   },
   "source": [
    "# **Normal Distribution**"
   ]
  },
  {
   "cell_type": "code",
   "execution_count": 4,
   "id": "d37d77f0",
   "metadata": {
    "execution": {
     "iopub.execute_input": "2021-09-28T17:38:05.154618Z",
     "iopub.status.busy": "2021-09-28T17:38:05.153741Z",
     "iopub.status.idle": "2021-09-28T17:38:05.156040Z",
     "shell.execute_reply": "2021-09-28T17:38:05.156468Z",
     "shell.execute_reply.started": "2021-09-28T17:37:28.225932Z"
    },
    "papermill": {
     "duration": 0.017889,
     "end_time": "2021-09-28T17:38:05.156636",
     "exception": false,
     "start_time": "2021-09-28T17:38:05.138747",
     "status": "completed"
    },
    "tags": []
   },
   "outputs": [],
   "source": [
    "def Normal_distribution(x, mean, std):\n",
    "    prob_density = (1/(std*2.50))*np.exp(-0.5*((x-mean)/std)**2)\n",
    "    return prob_density"
   ]
  },
  {
   "cell_type": "markdown",
   "id": "99feefad",
   "metadata": {
    "papermill": {
     "duration": 0.009483,
     "end_time": "2021-09-28T17:38:05.175528",
     "exception": false,
     "start_time": "2021-09-28T17:38:05.166045",
     "status": "completed"
    },
    "tags": []
   },
   "source": [
    "# **Naive_Bayesian**"
   ]
  },
  {
   "cell_type": "code",
   "execution_count": 5,
   "id": "6cf0d82b",
   "metadata": {
    "execution": {
     "iopub.execute_input": "2021-09-28T17:38:05.204215Z",
     "iopub.status.busy": "2021-09-28T17:38:05.203621Z",
     "iopub.status.idle": "2021-09-28T17:38:05.206597Z",
     "shell.execute_reply": "2021-09-28T17:38:05.206004Z",
     "shell.execute_reply.started": "2021-09-28T17:37:28.242664Z"
    },
    "papermill": {
     "duration": 0.021561,
     "end_time": "2021-09-28T17:38:05.206718",
     "exception": false,
     "start_time": "2021-09-28T17:38:05.185157",
     "status": "completed"
    },
    "tags": []
   },
   "outputs": [],
   "source": [
    "def Naive_Bayesian(train, test):\n",
    "    test['Predicted_Class'] = 0\n",
    "    for i in range(test.shape[0]):\n",
    "        range_checker = 0\n",
    "        signed_class = 0\n",
    "        for j in train['Outcome'].unique():\n",
    "            cal = 1\n",
    "            prob_class = len(train[train['Outcome']==j]['Outcome'])/len(train['Outcome'])\n",
    "            for features in train.columns:\n",
    "                if features!='Outcome':\n",
    "                    mean = np.mean(train[train['Outcome']==j][features])\n",
    "                    std_div = np.std(train[train['Outcome']==j][features])\n",
    "                    cal *= Normal_distribution(test.iloc[i][features], mean, std_div)\n",
    "            answer = prob_class*cal\n",
    "            if answer>range_checker:\n",
    "                signed_class = j\n",
    "                range_checker = answer\n",
    "        test['Predicted_Class'][i] = signed_class"
   ]
  },
  {
   "cell_type": "code",
   "execution_count": 6,
   "id": "bf65caa0",
   "metadata": {
    "execution": {
     "iopub.execute_input": "2021-09-28T17:38:05.230271Z",
     "iopub.status.busy": "2021-09-28T17:38:05.229471Z",
     "iopub.status.idle": "2021-09-28T17:38:06.624008Z",
     "shell.execute_reply": "2021-09-28T17:38:06.623508Z",
     "shell.execute_reply.started": "2021-09-28T17:37:28.254952Z"
    },
    "papermill": {
     "duration": 1.407676,
     "end_time": "2021-09-28T17:38:06.624143",
     "exception": false,
     "start_time": "2021-09-28T17:38:05.216467",
     "status": "completed"
    },
    "tags": []
   },
   "outputs": [],
   "source": [
    "Naive_Bayesian(Train, Test)"
   ]
  },
  {
   "cell_type": "code",
   "execution_count": 7,
   "id": "b804a5de",
   "metadata": {
    "execution": {
     "iopub.execute_input": "2021-09-28T17:38:06.660539Z",
     "iopub.status.busy": "2021-09-28T17:38:06.659647Z",
     "iopub.status.idle": "2021-09-28T17:38:06.666701Z",
     "shell.execute_reply": "2021-09-28T17:38:06.666190Z",
     "shell.execute_reply.started": "2021-09-28T17:37:29.762487Z"
    },
    "papermill": {
     "duration": 0.032925,
     "end_time": "2021-09-28T17:38:06.666834",
     "exception": false,
     "start_time": "2021-09-28T17:38:06.633909",
     "status": "completed"
    },
    "tags": []
   },
   "outputs": [
    {
     "data": {
      "text/html": [
       "<div>\n",
       "<style scoped>\n",
       "    .dataframe tbody tr th:only-of-type {\n",
       "        vertical-align: middle;\n",
       "    }\n",
       "\n",
       "    .dataframe tbody tr th {\n",
       "        vertical-align: top;\n",
       "    }\n",
       "\n",
       "    .dataframe thead th {\n",
       "        text-align: right;\n",
       "    }\n",
       "</style>\n",
       "<table border=\"1\" class=\"dataframe\">\n",
       "  <thead>\n",
       "    <tr style=\"text-align: right;\">\n",
       "      <th></th>\n",
       "      <th>Pregnancies</th>\n",
       "      <th>Glucose</th>\n",
       "      <th>BloodPressure</th>\n",
       "      <th>SkinThickness</th>\n",
       "      <th>Insulin</th>\n",
       "      <th>BMI</th>\n",
       "      <th>DiabetesPedigreeFunction</th>\n",
       "      <th>Age</th>\n",
       "      <th>Outcome</th>\n",
       "      <th>Predicted_Class</th>\n",
       "    </tr>\n",
       "  </thead>\n",
       "  <tbody>\n",
       "    <tr>\n",
       "      <th>575</th>\n",
       "      <td>1</td>\n",
       "      <td>119</td>\n",
       "      <td>44</td>\n",
       "      <td>47</td>\n",
       "      <td>63</td>\n",
       "      <td>35.5</td>\n",
       "      <td>0.280</td>\n",
       "      <td>25</td>\n",
       "      <td>0</td>\n",
       "      <td>0</td>\n",
       "    </tr>\n",
       "    <tr>\n",
       "      <th>206</th>\n",
       "      <td>8</td>\n",
       "      <td>196</td>\n",
       "      <td>76</td>\n",
       "      <td>29</td>\n",
       "      <td>280</td>\n",
       "      <td>37.5</td>\n",
       "      <td>0.605</td>\n",
       "      <td>57</td>\n",
       "      <td>1</td>\n",
       "      <td>0</td>\n",
       "    </tr>\n",
       "    <tr>\n",
       "      <th>127</th>\n",
       "      <td>1</td>\n",
       "      <td>118</td>\n",
       "      <td>58</td>\n",
       "      <td>36</td>\n",
       "      <td>94</td>\n",
       "      <td>33.3</td>\n",
       "      <td>0.261</td>\n",
       "      <td>23</td>\n",
       "      <td>0</td>\n",
       "      <td>0</td>\n",
       "    </tr>\n",
       "    <tr>\n",
       "      <th>550</th>\n",
       "      <td>1</td>\n",
       "      <td>116</td>\n",
       "      <td>70</td>\n",
       "      <td>28</td>\n",
       "      <td>0</td>\n",
       "      <td>27.4</td>\n",
       "      <td>0.204</td>\n",
       "      <td>21</td>\n",
       "      <td>0</td>\n",
       "      <td>0</td>\n",
       "    </tr>\n",
       "    <tr>\n",
       "      <th>118</th>\n",
       "      <td>4</td>\n",
       "      <td>97</td>\n",
       "      <td>60</td>\n",
       "      <td>23</td>\n",
       "      <td>0</td>\n",
       "      <td>28.2</td>\n",
       "      <td>0.443</td>\n",
       "      <td>22</td>\n",
       "      <td>0</td>\n",
       "      <td>0</td>\n",
       "    </tr>\n",
       "  </tbody>\n",
       "</table>\n",
       "</div>"
      ],
      "text/plain": [
       "     Pregnancies  Glucose  BloodPressure  SkinThickness  Insulin   BMI  \\\n",
       "575            1      119             44             47       63  35.5   \n",
       "206            8      196             76             29      280  37.5   \n",
       "127            1      118             58             36       94  33.3   \n",
       "550            1      116             70             28        0  27.4   \n",
       "118            4       97             60             23        0  28.2   \n",
       "\n",
       "     DiabetesPedigreeFunction  Age  Outcome  Predicted_Class  \n",
       "575                     0.280   25        0                0  \n",
       "206                     0.605   57        1                0  \n",
       "127                     0.261   23        0                0  \n",
       "550                     0.204   21        0                0  \n",
       "118                     0.443   22        0                0  "
      ]
     },
     "execution_count": 7,
     "metadata": {},
     "output_type": "execute_result"
    }
   ],
   "source": [
    "Test.head()"
   ]
  },
  {
   "cell_type": "markdown",
   "id": "80dd8f1b",
   "metadata": {
    "papermill": {
     "duration": 0.015135,
     "end_time": "2021-09-28T17:38:06.695467",
     "exception": false,
     "start_time": "2021-09-28T17:38:06.680332",
     "status": "completed"
    },
    "tags": []
   },
   "source": [
    "# **Accuracy Score**"
   ]
  },
  {
   "cell_type": "code",
   "execution_count": 8,
   "id": "f7a3f68b",
   "metadata": {
    "execution": {
     "iopub.execute_input": "2021-09-28T17:38:06.732763Z",
     "iopub.status.busy": "2021-09-28T17:38:06.731200Z",
     "iopub.status.idle": "2021-09-28T17:38:06.736151Z",
     "shell.execute_reply": "2021-09-28T17:38:06.736649Z",
     "shell.execute_reply.started": "2021-09-28T17:37:29.777805Z"
    },
    "papermill": {
     "duration": 0.025229,
     "end_time": "2021-09-28T17:38:06.736796",
     "exception": false,
     "start_time": "2021-09-28T17:38:06.711567",
     "status": "completed"
    },
    "tags": []
   },
   "outputs": [
    {
     "data": {
      "text/plain": [
       "71.42857142857143"
      ]
     },
     "execution_count": 8,
     "metadata": {},
     "output_type": "execute_result"
    }
   ],
   "source": [
    "accuracy_score(Test['Outcome'], Test['Predicted_Class'])*100"
   ]
  },
  {
   "cell_type": "code",
   "execution_count": 9,
   "id": "2bcea0f0",
   "metadata": {
    "execution": {
     "iopub.execute_input": "2021-09-28T17:38:06.768298Z",
     "iopub.status.busy": "2021-09-28T17:38:06.767585Z",
     "iopub.status.idle": "2021-09-28T17:38:06.770873Z",
     "shell.execute_reply": "2021-09-28T17:38:06.770438Z",
     "shell.execute_reply.started": "2021-09-28T17:37:29.789739Z"
    },
    "papermill": {
     "duration": 0.021624,
     "end_time": "2021-09-28T17:38:06.770979",
     "exception": false,
     "start_time": "2021-09-28T17:38:06.749355",
     "status": "completed"
    },
    "tags": []
   },
   "outputs": [
    {
     "data": {
      "text/plain": [
       "array([[54,  1],\n",
       "       [21,  1]])"
      ]
     },
     "execution_count": 9,
     "metadata": {},
     "output_type": "execute_result"
    }
   ],
   "source": [
    "confusion_matrix(Test['Outcome'], Test['Predicted_Class'])"
   ]
  }
 ],
 "metadata": {
  "kernelspec": {
   "display_name": "Python 3",
   "language": "python",
   "name": "python3"
  },
  "language_info": {
   "codemirror_mode": {
    "name": "ipython",
    "version": 3
   },
   "file_extension": ".py",
   "mimetype": "text/x-python",
   "name": "python",
   "nbconvert_exporter": "python",
   "pygments_lexer": "ipython3",
   "version": "3.7.10"
  },
  "papermill": {
   "default_parameters": {},
   "duration": 10.281549,
   "end_time": "2021-09-28T17:38:07.288124",
   "environment_variables": {},
   "exception": null,
   "input_path": "__notebook__.ipynb",
   "output_path": "__notebook__.ipynb",
   "parameters": {},
   "start_time": "2021-09-28T17:37:57.006575",
   "version": "2.3.3"
  }
 },
 "nbformat": 4,
 "nbformat_minor": 5
}
